{
 "cells": [
  {
   "cell_type": "markdown",
   "metadata": {},
   "source": [
    "# COMP 462  Introduction to Machine Learning \n",
    "\n",
    "### Decision tree construction with ID3 algoritm implementation"
   ]
  },
  {
   "cell_type": "markdown",
   "metadata": {},
   "source": [
    "Program input: \n",
    "Initialization of the lists has been done in main module, giving a dataset text file as input."
   ]
  },
  {
   "cell_type": "code",
   "execution_count": 9,
   "metadata": {},
   "outputs": [
    {
     "name": "stdout",
     "output_type": "stream",
     "text": [
      "outlook = sunny --> humidity = high --> OUTPUT 0\nhumidity = normal --> OUTPUT +\noutlook = overcast --> OUTPUT +\noutlook = rain --> wind = weak --> OUTPUT +\nwind = strong --> OUTPUT 0\n"
     ]
    }
   ],
   "source": [
    "import assignment1 as dt\n",
    "\n",
    "dt.main(\"dataset1.txt\")"
   ]
  },
  {
   "cell_type": "markdown",
   "metadata": {},
   "source": [
    "Impurity of the dataset has been measured by calculating its entropy, using the formula of entropy. "
   ]
  },
  {
   "cell_type": "code",
   "execution_count": 60,
   "metadata": {
    "scrolled": true
   },
   "outputs": [
    {
     "name": "stdout",
     "output_type": "stream",
     "text": [
      "Entropy of the sample set = 0.940\n"
     ]
    }
   ],
   "source": [
    "import assignment1 as dt\n",
    "\n",
    "print(\"Entropy of the sample set = %.3f\"%dt.entropy(dt.sampleset))\n"
   ]
  },
  {
   "cell_type": "markdown",
   "metadata": {},
   "source": [
    "Information Gain has been calculated using the formula of information gain. ID3 algorithm uses it to identify the best attribute to be the next classifier for the training examples. \n",
    "\n",
    "Here, the information gain of each attribute can be seen. And the best attribute has been chosen as the one with the highest information gain attribute."
   ]
  },
  {
   "cell_type": "code",
   "execution_count": 61,
   "metadata": {
    "scrolled": false
   },
   "outputs": [
    {
     "name": "stdout",
     "output_type": "stream",
     "text": [
      "Gain on outlook = 0.247\n",
      "Gain on temp = 0.029\n",
      "Gain on humidity = 0.152\n",
      "Gain on wind = 0.048\n",
      "\n",
      "The best attribute for the sampleset is outlook\n"
     ]
    }
   ],
   "source": [
    "import assignment1 as dt \n",
    "\n",
    "# bestclf(S, A): returns the list element in attributes list \n",
    "# gain(S, A): returns the information gain of attributes in given lists\n",
    "# S(list): Elements of the list are the indices of elements in Examples (corresponds to the rows in dataset.txt)\n",
    "# A(list): Elements of the list are the indices of elements in attributes (index of the list (attribute and values))\n",
    "\n",
    "\n",
    "for i in range(len(dt.attributes)):\n",
    "    print(\"Gain on\", dt.attributes[i][0], \"= %.3f\"% dt.gain(dt.sampleset, i))\n",
    "\n",
    "print(\"\\nThe best attribute for the sampleset is\", dt.attributes[dt.bestclf(dt.sampleset, [i for i in range(len(dt.attributes))])][0])"
   ]
  },
  {
   "cell_type": "markdown",
   "metadata": {},
   "source": [
    "Program output:\n",
    "Main module constructs the decision tree using the ID3 algorithm which can be seen in source files. Then, using the printTree method, decision tree rules can be prompted as output.\n",
    "\n",
    "A notebook(.ipynb) has been provided in zip file. Alternative outputs can be observed with different inputs."
   ]
  },
  {
   "cell_type": "code",
   "execution_count": 5,
   "metadata": {
    "scrolled": false,
    "collapsed": false
   },
   "outputs": [
    {
     "name": "stdout",
     "output_type": "stream",
     "text": [
      "outlook = sunny --> humidity = high --> OUTPUT = no\nhumidity = normal --> OUTPUT = yes\noutlook = overcast --> OUTPUT = yes\noutlook = rain --> wind = weak --> OUTPUT = yes\nwind = strong --> OUTPUT = no\n"
     ]
    }
   ],
   "source": [
    "import assignment1 as dt\n",
    "\n",
    "dt.printTree(dt.decisionTree)\n"
   ]
  }
 ],
 "metadata": {
  "kernelspec": {
   "display_name": "Python 3",
   "language": "python",
   "name": "python3"
  },
  "language_info": {
   "codemirror_mode": {
    "name": "ipython",
    "version": 3
   },
   "file_extension": ".py",
   "mimetype": "text/x-python",
   "name": "python",
   "nbconvert_exporter": "python",
   "pygments_lexer": "ipython3",
   "version": "3.6.3"
  }
 },
 "nbformat": 4,
 "nbformat_minor": 1
}
