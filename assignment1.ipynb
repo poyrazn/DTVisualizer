{
 "cells": [
  {
   "cell_type": "code",
   "execution_count": 16,
   "metadata": {
    "collapsed": false
   },
   "outputs": [
    {
     "name": "stdout",
     "output_type": "stream",
     "text": [
      "outlook = sunny --> humidity = high --> OUTPUT -\nhumidity = normal --> OUTPUT +\noutlook = overcast --> OUTPUT +\noutlook = rain --> wind = weak --> OUTPUT +\nwind = strong --> OUTPUT -\n"
     ]
    }
   ],
   "source": [
    "import assignment1\n",
    "\n",
    "assignment1.initialize(\"dataset1.txt\")\n",
    "\n",
    "nd = assignment1.ID3(assignment1.sampleset, assignment1.sampleset, [j for j in range(len(assignment1.attributes))])\n",
    "assignment1.printTree(nd)"
   ]
  },
  {
   "cell_type": "code",
   "execution_count": null,
   "metadata": {},
   "outputs": [],
   "source": []
  }
 ],
 "metadata": {
  "kernelspec": {
   "display_name": "Python 2",
   "language": "python",
   "name": "python2"
  },
  "language_info": {
   "codemirror_mode": {
    "name": "ipython",
    "version": 2
   },
   "file_extension": ".py",
   "mimetype": "text/x-python",
   "name": "python",
   "nbconvert_exporter": "python",
   "pygments_lexer": "ipython2",
   "version": "2.7.6"
  }
 },
 "nbformat": 4,
 "nbformat_minor": 0
}
